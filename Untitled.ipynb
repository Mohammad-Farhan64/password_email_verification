{
 "cells": [
  {
   "cell_type": "code",
   "execution_count": 1,
   "id": "d39e5efd",
   "metadata": {},
   "outputs": [],
   "source": [
    "import re"
   ]
  },
  {
   "cell_type": "code",
   "execution_count": 2,
   "id": "8695a52d",
   "metadata": {},
   "outputs": [
    {
     "name": "stdout",
     "output_type": "stream",
     "text": [
      "helo\n"
     ]
    }
   ],
   "source": [
    "print('helo')"
   ]
  },
  {
   "cell_type": "code",
   "execution_count": 3,
   "id": "c298b822",
   "metadata": {},
   "outputs": [
    {
     "name": "stdout",
     "output_type": "stream",
     "text": [
      "['email harshit2446@gmail.com password 1234567 user harshit\\n', 'email 19bcs2445@gmail.com password 1234567 user farhan\\n', 'email 19bcs2446@gmail.com password 1234567 user kapila\\n', 'email Tarun12@gmail.com password Tarun12@ user Tarun']\n"
     ]
    }
   ],
   "source": [
    "with open(\"email_pwd_details.txt\", \"r+\") as f: # store all lined data\n",
    "    contents = f.readlines()\n",
    "    print(contents)"
   ]
  },
  {
   "cell_type": "code",
   "execution_count": 4,
   "id": "0191c8b9",
   "metadata": {},
   "outputs": [
    {
     "name": "stdout",
     "output_type": "stream",
     "text": [
      "['email harshit2446@gmail.com password 1234567 user harshit\\n', 'email 19bcs2445@gmail.com password 1234567 user farhan\\n', 'email 19bcs2446@gmail.com password 1234567 user kapila\\n', 'email Tarun12@gmail.com password Tarun12@ user Tarun']\n"
     ]
    }
   ],
   "source": [
    "print(contents)"
   ]
  },
  {
   "cell_type": "code",
   "execution_count": 5,
   "id": "ad09e8bb",
   "metadata": {},
   "outputs": [
    {
     "name": "stdout",
     "output_type": "stream",
     "text": [
      "enter user name Tarun\n"
     ]
    }
   ],
   "source": [
    "userName=input('enter user name ')"
   ]
  },
  {
   "cell_type": "code",
   "execution_count": 6,
   "id": "dfefe348",
   "metadata": {},
   "outputs": [
    {
     "name": "stdout",
     "output_type": "stream",
     "text": [
      "enter email Tarun12@gmail.com\n"
     ]
    }
   ],
   "source": [
    "email=input('enter email ')#take inputs from user"
   ]
  },
  {
   "cell_type": "code",
   "execution_count": 7,
   "id": "a4992a76",
   "metadata": {},
   "outputs": [],
   "source": [
    "def run(string):\n",
    " \n",
    "    # Make own character set and pass\n",
    "    # this as argument in compile method\n",
    "    regex = re.compile('[@_!#$%^&*()<>?/\\|}{~:]')\n",
    "     \n",
    "    # Pass the string in search\n",
    "    # method of regex object.   \n",
    "    if(regex.search(string) == None):\n",
    "        return True \n",
    "    else:\n",
    "        return False\n",
    "    \n",
    "def mail_verification(prefix1,sufix):\n",
    "  if len(sufix)!=2:\n",
    "    return False\n",
    "  if prefix1[0].isalpha() != True:\n",
    "    return False\n",
    "  if(run(sufix[0]) and run(sufix[1])):\n",
    "    return True\n",
    "  else:\n",
    "    return False\n"
   ]
  },
  {
   "cell_type": "code",
   "execution_count": 8,
   "id": "9a213d44",
   "metadata": {},
   "outputs": [],
   "source": [
    "def verifyEmail(email):\n",
    "    #checking vaild email \n",
    "    if(email.find('.')-email.find('@'))==1:\n",
    "      return False  \n",
    "      print('invalid email ID')\n",
    "      email=input('reenter email ')\n",
    "\n",
    "    if(email.count('@')!=1 or email.count('.')!=1):\n",
    "      return False   \n",
    "      print('invalid email ID')\n",
    "      email=input('reenter email ')\n",
    "        \n",
    "    prefix=email.split('@')\n",
    "   # print(*prefix)\n",
    "    sufix=prefix[1].split('.')\n",
    "   # sufix\n",
    "    \n",
    "    if mail_verification(prefix[0],sufix):\n",
    "      return True  \n",
    "      print(\"email is accepted\")\n",
    "    else:\n",
    "      return False   \n",
    "      print(\"email is not accepted.\")\n",
    "      email=input('re enter email ')"
   ]
  },
  {
   "cell_type": "code",
   "execution_count": 9,
   "id": "6bb423ad",
   "metadata": {},
   "outputs": [
    {
     "name": "stdout",
     "output_type": "stream",
     "text": [
      "email is accepted\n"
     ]
    }
   ],
   "source": [
    "if verifyEmail(email):\n",
    "  print(\"email is accepted\")\n",
    "else:\n",
    "  print(\"email is not accepted.\")\n",
    "  email=input('re enter email ')"
   ]
  },
  {
   "cell_type": "code",
   "execution_count": 10,
   "id": "bbb7f1ba",
   "metadata": {},
   "outputs": [
    {
     "name": "stdout",
     "output_type": "stream",
     "text": [
      "enter password Tarun12@\n"
     ]
    }
   ],
   "source": [
    "password=input('enter password ')"
   ]
  },
  {
   "cell_type": "code",
   "execution_count": 11,
   "id": "297c98f7",
   "metadata": {},
   "outputs": [],
   "source": [
    "def verifypassword(password):\n",
    "    x = re.search(\"^(?=.{5,16}$)\"+\n",
    "              \"(?=.*[a-z])\"+\n",
    "              \"(?=.*[A-Z])\"+\n",
    "              \"(?=.*[0-9])\"+\n",
    "              \"(?=.*\\W).*$\", password)\n",
    "    if x==False:\n",
    "      print('invalid password')\n",
    "      password=input('re enter password')\n",
    "    else:\n",
    "      print('password is accepted')\n",
    "    "
   ]
  },
  {
   "cell_type": "code",
   "execution_count": 12,
   "id": "f2220fdf",
   "metadata": {},
   "outputs": [
    {
     "name": "stdout",
     "output_type": "stream",
     "text": [
      "password is accepted\n"
     ]
    }
   ],
   "source": [
    "verifypassword(password)"
   ]
  },
  {
   "cell_type": "code",
   "execution_count": 13,
   "id": "85e342b9",
   "metadata": {},
   "outputs": [
    {
     "name": "stdout",
     "output_type": "stream",
     "text": [
      "['email harshit2446@gmail.com password 1234567 user harshit\\n', 'email 19bcs2445@gmail.com password 1234567 user farhan\\n', 'email 19bcs2446@gmail.com password 1234567 user kapila\\n', 'email Tarun12@gmail.com password Tarun12@ user Tarun']\n"
     ]
    }
   ],
   "source": [
    "print(contents)"
   ]
  },
  {
   "cell_type": "code",
   "execution_count": 14,
   "id": "522f2145",
   "metadata": {},
   "outputs": [],
   "source": [
    "def registeration(email,password,userName,contents):\n",
    "    print('email',email)\n",
    "    print('password',password)\n",
    "    print('user name',userName)\n",
    "\n",
    "    st=\"\\nemail \"+email+\" password \"+password+\" user \"+userName\n",
    "    contents.append(st)\n",
    "    file1 = open(\"email_pwd_details.txt\",\"w\") \n",
    "    file1.writelines(contents)\n",
    "    file1.close()\n",
    "    #file1.writelines('\\n email '+email+' password'+password+' 1234567'+' user'+userName )\n",
    "   \n",
    "    #file1.write(\"email \"+email+\" password \"+password+\" user \"+userName)\n",
    "    "
   ]
  },
  {
   "cell_type": "code",
   "execution_count": 15,
   "id": "39fc9241",
   "metadata": {},
   "outputs": [
    {
     "name": "stdout",
     "output_type": "stream",
     "text": [
      "allow to access doc\n"
     ]
    }
   ],
   "source": [
    "\n",
    "presnt=False\n",
    "for i in contents:\n",
    "    info=i.split(' ')\n",
    "    if( email.strip() == info[1].strip() and userName.strip()==info[5].strip() and password.strip() != info[3].strip()):\n",
    "        presnt=True\n",
    "        print('incorrect password ')\n",
    "        chose=int(input('enter 1 to change password or 2 to get password'))\n",
    "        if chose==1:\n",
    "            newpassword=input('newpassword')\n",
    "            location=contents.index(i)\n",
    "            contents[location]=i.replace(info[3],newpassword,1)\n",
    "            #print(i)\n",
    "            #print(contents[location])\n",
    "            #print(contents)\n",
    "            #contents=contents.replace(i,newData)\n",
    "            #f.writeline(contents)\n",
    "            f.close()\n",
    "            file1 = open(\"email_pwd_details.txt\",\"w\") \n",
    "            file1.writelines(contents)\n",
    "            file1.close()\n",
    "        elif chose==2:\n",
    "            print(info[3].strip(),'is your password')\n",
    "    elif(email.strip() == info[1].strip() and userName.strip()==info[5].strip() and password.strip() == info[3].strip()):\n",
    "        presnt=True\n",
    "        print('allow to access doc')\n",
    "        \n",
    "if presnt is False:\n",
    "    f.close()\n",
    "    print('account not exist please register')\n",
    "    create=int(input('enter 1 to create account else 0'))\n",
    "\n",
    "    if create==1:\n",
    "        print('your account is created')\n",
    "        registeration(email,password,userName,contents)\n",
    "    else:\n",
    "        print('you not enter 1, your account is not created')\n",
    "        \n"
   ]
  }
 ],
 "metadata": {
  "kernelspec": {
   "display_name": "Python 3 (ipykernel)",
   "language": "python",
   "name": "python3"
  },
  "language_info": {
   "codemirror_mode": {
    "name": "ipython",
    "version": 3
   },
   "file_extension": ".py",
   "mimetype": "text/x-python",
   "name": "python",
   "nbconvert_exporter": "python",
   "pygments_lexer": "ipython3",
   "version": "3.9.12"
  }
 },
 "nbformat": 4,
 "nbformat_minor": 5
}
